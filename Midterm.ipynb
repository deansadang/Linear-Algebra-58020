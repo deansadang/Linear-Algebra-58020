{
  "nbformat": 4,
  "nbformat_minor": 0,
  "metadata": {
    "colab": {
      "name": "Midterm.ipynb",
      "provenance": [],
      "authorship_tag": "ABX9TyNif6yNI0tbllishJ1fuiZC",
      "include_colab_link": true
    },
    "kernelspec": {
      "name": "python3",
      "display_name": "Python 3"
    },
    "language_info": {
      "name": "python"
    }
  },
  "cells": [
    {
      "cell_type": "markdown",
      "metadata": {
        "id": "view-in-github",
        "colab_type": "text"
      },
      "source": [
        "<a href=\"https://colab.research.google.com/github/deansadang/Linear-Algebra-58020/blob/main/Midterm.ipynb\" target=\"_parent\"><img src=\"https://colab.research.google.com/assets/colab-badge.svg\" alt=\"Open In Colab\"/></a>"
      ]
    },
    {
      "cell_type": "code",
      "metadata": {
        "id": "_v0UmqQC2zRa"
      },
      "source": [
        "import numpy as np "
      ],
      "execution_count": 1,
      "outputs": []
    },
    {
      "cell_type": "markdown",
      "metadata": {
        "id": "EhtRNK4X6yvI"
      },
      "source": [
        "**Question #1 Create a Python code that displays a square matrix whose length is 5**"
      ]
    },
    {
      "cell_type": "code",
      "metadata": {
        "colab": {
          "base_uri": "https://localhost:8080/"
        },
        "id": "9WvE3zAE6NMG",
        "outputId": "64a41882-e333-4132-cdc2-cfbb037a8898"
      },
      "source": [
        "A = np.eye(5)\n",
        "print(A)"
      ],
      "execution_count": 2,
      "outputs": [
        {
          "output_type": "stream",
          "name": "stdout",
          "text": [
            "[[1. 0. 0. 0. 0.]\n",
            " [0. 1. 0. 0. 0.]\n",
            " [0. 0. 1. 0. 0.]\n",
            " [0. 0. 0. 1. 0.]\n",
            " [0. 0. 0. 0. 1.]]\n"
          ]
        }
      ]
    },
    {
      "cell_type": "markdown",
      "metadata": {
        "id": "MHxxNsnE6395"
      },
      "source": [
        "**Question #2 Create a Python code that displays a square matrix whose elements below the principal diagonal are zero**"
      ]
    },
    {
      "cell_type": "code",
      "metadata": {
        "colab": {
          "base_uri": "https://localhost:8080/"
        },
        "id": "pl4kYbj23atn",
        "outputId": "207509fd-1138-48ea-d2b1-35cee8b2cfff"
      },
      "source": [
        "B = np.eye(4)\n",
        "print(B)"
      ],
      "execution_count": 3,
      "outputs": [
        {
          "output_type": "stream",
          "name": "stdout",
          "text": [
            "[[1. 0. 0. 0.]\n",
            " [0. 1. 0. 0.]\n",
            " [0. 0. 1. 0.]\n",
            " [0. 0. 0. 1.]]\n"
          ]
        }
      ]
    },
    {
      "cell_type": "markdown",
      "metadata": {
        "id": "wt7Nwqho-vM7"
      },
      "source": [
        "**Question #3 Create a Python code that displays a square matrix which is symmetrical**\n"
      ]
    },
    {
      "cell_type": "code",
      "metadata": {
        "colab": {
          "base_uri": "https://localhost:8080/"
        },
        "id": "xDpGXpws-vtv",
        "outputId": "b7827b80-9d22-42eb-b2e7-691b4b328448"
      },
      "source": [
        "B2 = np.array([[1,2,6],[2,8,4],[6,4,5]])\n",
        "print(B2)"
      ],
      "execution_count": 9,
      "outputs": [
        {
          "output_type": "stream",
          "name": "stdout",
          "text": [
            "[[1 2 6]\n",
            " [2 8 4]\n",
            " [6 4 5]]\n"
          ]
        }
      ]
    },
    {
      "cell_type": "markdown",
      "metadata": {
        "id": "xc3wUpyu8dMV"
      },
      "source": [
        "**Question #4 What is the inverse of matrix C? Show your solution by python coding.**"
      ]
    },
    {
      "cell_type": "code",
      "metadata": {
        "colab": {
          "base_uri": "https://localhost:8080/"
        },
        "id": "tGS2Ah8h7UT8",
        "outputId": "6b48ec2f-34c8-46a4-a113-9e5d32d7c97b"
      },
      "source": [
        "V = np.array([[1,2,3],[2,3,3],[3,4,-2]])\n",
        "print(V)\n",
        "f = np.linalg.inv(V)\n",
        "print(f)"
      ],
      "execution_count": 5,
      "outputs": [
        {
          "output_type": "stream",
          "name": "stdout",
          "text": [
            "[[ 1  2  3]\n",
            " [ 2  3  3]\n",
            " [ 3  4 -2]]\n",
            "[[-3.6  3.2 -0.6]\n",
            " [ 2.6 -2.2  0.6]\n",
            " [-0.2  0.4 -0.2]]\n"
          ]
        }
      ]
    },
    {
      "cell_type": "markdown",
      "metadata": {
        "id": "XpqW-POd9vC9"
      },
      "source": [
        "**Question #5 What is the determinant of the given matrix in Question 4? Show your solution by python coding.**"
      ]
    },
    {
      "cell_type": "code",
      "metadata": {
        "colab": {
          "base_uri": "https://localhost:8080/"
        },
        "id": "U-U3Dx8b9u09",
        "outputId": "66333c74-1d25-4049-97a7-129c305c7825"
      },
      "source": [
        "V = np.array([[1,2,3],[2,3,3],[3,4,-2]])\n",
        "print(V)\n",
        "print(np.linalg.det(V))\n",
        "print(round(np.linalg.det(V)))"
      ],
      "execution_count": 6,
      "outputs": [
        {
          "output_type": "stream",
          "name": "stdout",
          "text": [
            "[[ 1  2  3]\n",
            " [ 2  3  3]\n",
            " [ 3  4 -2]]\n",
            "5.000000000000001\n",
            "5\n"
          ]
        }
      ]
    },
    {
      "cell_type": "markdown",
      "metadata": {
        "id": "f6lFIoUaBDUS"
      },
      "source": [
        "**Question #6 Find the roots of the linear equations by showing its python codes.**"
      ]
    },
    {
      "cell_type": "code",
      "metadata": {
        "colab": {
          "base_uri": "https://localhost:8080/"
        },
        "id": "d7cjoc7RC_KO",
        "outputId": "ee924ab8-47e8-4703-95d3-3b8496ab178e"
      },
      "source": [
        "D = np.array([[5,4,1,3.4],[10,9,4,8.8],[10,13,15,19.2]]) \n",
        "print(D)\n",
        "\n",
        "sqrtD = np.sqrt(D) \n",
        "print(\" \")\n",
        "print(\"Roots\")\n",
        "print(\" \")\n",
        "print(sqrtD)"
      ],
      "execution_count": 11,
      "outputs": [
        {
          "output_type": "stream",
          "name": "stdout",
          "text": [
            "[[ 5.   4.   1.   3.4]\n",
            " [10.   9.   4.   8.8]\n",
            " [10.  13.  15.  19.2]]\n",
            " \n",
            "Roots\n",
            " \n",
            "[[2.23606798 2.         1.         1.84390889]\n",
            " [3.16227766 3.         2.         2.96647939]\n",
            " [3.16227766 3.60555128 3.87298335 4.38178046]]\n"
          ]
        }
      ]
    }
  ]
}