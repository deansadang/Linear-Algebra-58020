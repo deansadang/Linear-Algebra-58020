{
  "nbformat": 4,
  "nbformat_minor": 0,
  "metadata": {
    "colab": {
      "name": "python exercise_2.ipynb",
      "provenance": [],
      "authorship_tag": "ABX9TyNsAhvGZ6T0hztmHMrFP4Fq",
      "include_colab_link": true
    },
    "kernelspec": {
      "name": "python3",
      "display_name": "Python 3"
    },
    "language_info": {
      "name": "python"
    }
  },
  "cells": [
    {
      "cell_type": "markdown",
      "metadata": {
        "id": "view-in-github",
        "colab_type": "text"
      },
      "source": [
        "<a href=\"https://colab.research.google.com/github/deansadang/Linear-Algebra-58020/blob/main/python_exercise_2.ipynb\" target=\"_parent\"><img src=\"https://colab.research.google.com/assets/colab-badge.svg\" alt=\"Open In Colab\"/></a>"
      ]
    },
    {
      "cell_type": "markdown",
      "metadata": {
        "id": "RPDjNmTgIqgu"
      },
      "source": [
        "Vector spaces and its operation\n",
        "\n"
      ]
    },
    {
      "cell_type": "code",
      "metadata": {
        "colab": {
          "base_uri": "https://localhost:8080/"
        },
        "id": "zmgYEaQn5BL4",
        "outputId": "d330e053-c2a1-462a-a3d4-ca3971b1e1e9"
      },
      "source": [
        "import numpy as np \n",
        "A = np.array ([4,3])\n",
        "B = np.array ([2,-5])\n",
        "\n",
        "print('vector A is ', A)\n",
        "print('vector b is',B)"
      ],
      "execution_count": 2,
      "outputs": [
        {
          "output_type": "stream",
          "name": "stdout",
          "text": [
            "vector A is  [4 3]\n",
            "vector b is [ 2 -5]\n"
          ]
        }
      ]
    },
    {
      "cell_type": "code",
      "metadata": {
        "colab": {
          "base_uri": "https://localhost:8080/"
        },
        "id": "7yJBnApQ591y",
        "outputId": "3177a97e-cbbe-4b82-909e-725166f68746"
      },
      "source": [
        "ball1 = np.array([1,2,3])\n",
        "ball2 = np.array ([0,1,-1])\n",
        "\n",
        "pool = np.array([ball1,ball2])\n",
        "print(pool.shape)\n",
        "print(pool.size)\n",
        "print(pool.ndim)"
      ],
      "execution_count": 4,
      "outputs": [
        {
          "output_type": "stream",
          "name": "stdout",
          "text": [
            "(2, 3)\n",
            "6\n",
            "2\n"
          ]
        }
      ]
    },
    {
      "cell_type": "code",
      "metadata": {
        "colab": {
          "base_uri": "https://localhost:8080/"
        },
        "id": "LtKvn16IHA8l",
        "outputId": "567f4872-b8c4-4dfa-d2a0-cfec793522d5"
      },
      "source": [
        "R = A+B\n",
        "print(R)"
      ],
      "execution_count": 5,
      "outputs": [
        {
          "output_type": "stream",
          "name": "stdout",
          "text": [
            "[ 6 -2]\n"
          ]
        }
      ]
    },
    {
      "cell_type": "markdown",
      "metadata": {
        "id": "Tm5rnNtGI2XN"
      },
      "source": [
        "Addition"
      ]
    },
    {
      "cell_type": "code",
      "metadata": {
        "colab": {
          "base_uri": "https://localhost:8080/"
        },
        "id": "Kj3BLVF3HInH",
        "outputId": "d8d3e75a-3c0d-4caa-c710-b97456109589"
      },
      "source": [
        "R = np.add(A,B)\n",
        "print(R)"
      ],
      "execution_count": 6,
      "outputs": [
        {
          "output_type": "stream",
          "name": "stdout",
          "text": [
            "[ 6 -2]\n"
          ]
        }
      ]
    },
    {
      "cell_type": "markdown",
      "metadata": {
        "id": "SxzEWNSPI4rf"
      },
      "source": [
        "Subtraction"
      ]
    },
    {
      "cell_type": "code",
      "metadata": {
        "colab": {
          "base_uri": "https://localhost:8080/"
        },
        "id": "qiCleG1AHVAk",
        "outputId": "189ed8eb-73d7-4536-b1dd-17f32d8224b5"
      },
      "source": [
        "R = np.subtract(A,B)\n",
        "print(R)"
      ],
      "execution_count": 7,
      "outputs": [
        {
          "output_type": "stream",
          "name": "stdout",
          "text": [
            "[2 8]\n"
          ]
        }
      ]
    },
    {
      "cell_type": "markdown",
      "metadata": {
        "id": "83bPFWTKI9Ay"
      },
      "source": [
        "Scaling"
      ]
    },
    {
      "cell_type": "code",
      "metadata": {
        "colab": {
          "base_uri": "https://localhost:8080/"
        },
        "id": "U2q4aH9-HgzG",
        "outputId": "342e6f1a-b858-4ede-f4cf-298998dfe545"
      },
      "source": [
        "A = np.array([1,5,8,9])\n",
        "S =5*A\n",
        "print(S)\n"
      ],
      "execution_count": 8,
      "outputs": [
        {
          "output_type": "stream",
          "name": "stdout",
          "text": [
            "[ 5 25 40 45]\n"
          ]
        }
      ]
    },
    {
      "cell_type": "code",
      "metadata": {
        "colab": {
          "base_uri": "https://localhost:8080/"
        },
        "id": "w6aA64PsH8gr",
        "outputId": "91edcbcd-9689-499f-a640-58b448f27a04"
      },
      "source": [
        "S = np.multiply (5,A)\n",
        "print(S)"
      ],
      "execution_count": 11,
      "outputs": [
        {
          "output_type": "stream",
          "name": "stdout",
          "text": [
            "[ 5 25 40 45]\n"
          ]
        }
      ]
    },
    {
      "cell_type": "markdown",
      "metadata": {
        "id": "Y7z2ei7BI_8F"
      },
      "source": [
        "Cross product of arrays"
      ]
    },
    {
      "cell_type": "code",
      "metadata": {
        "colab": {
          "base_uri": "https://localhost:8080/"
        },
        "id": "27G8kkzWILIO",
        "outputId": "33b49bbc-bae5-4584-e491-5d4596145a43"
      },
      "source": [
        "A =np.array([2,3])\n",
        "b = np.array([1,7])\n",
        "\n",
        "output = np.cross(A,B)\n",
        "print(output)"
      ],
      "execution_count": 13,
      "outputs": [
        {
          "output_type": "stream",
          "name": "stdout",
          "text": [
            "-16\n"
          ]
        }
      ]
    },
    {
      "cell_type": "code",
      "metadata": {
        "id": "P9r43e1IIU18"
      },
      "source": [
        "output =np.dot(A,B)\n",
        "print(output)"
      ],
      "execution_count": null,
      "outputs": []
    }
  ]
}