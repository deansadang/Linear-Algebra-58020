{
  "nbformat": 4,
  "nbformat_minor": 0,
  "metadata": {
    "colab": {
      "name": "Inverse and transpose.ipynb",
      "provenance": [],
      "authorship_tag": "ABX9TyN+wrng+KpoPnrk3ASJfiD/",
      "include_colab_link": true
    },
    "kernelspec": {
      "name": "python3",
      "display_name": "Python 3"
    },
    "language_info": {
      "name": "python"
    }
  },
  "cells": [
    {
      "cell_type": "markdown",
      "metadata": {
        "id": "view-in-github",
        "colab_type": "text"
      },
      "source": [
        "<a href=\"https://colab.research.google.com/github/deansadang/Linear-Algebra-58020/blob/main/Inverse_and_transpose.ipynb\" target=\"_parent\"><img src=\"https://colab.research.google.com/assets/colab-badge.svg\" alt=\"Open In Colab\"/></a>"
      ]
    },
    {
      "cell_type": "code",
      "metadata": {
        "id": "OZCEA69rx6B0"
      },
      "source": [
        "import numpy as np "
      ],
      "execution_count": 1,
      "outputs": []
    },
    {
      "cell_type": "code",
      "metadata": {
        "colab": {
          "base_uri": "https://localhost:8080/"
        },
        "id": "Z3aYvvzC0pm6",
        "outputId": "40d1c72d-d551-452b-cb3d-0d9f1f8fdc19"
      },
      "source": [
        "A = np.array([[1,2],[4,7]])\n",
        "invA = (np.linalg.inv(A))\n",
        "print(invA)"
      ],
      "execution_count": 2,
      "outputs": [
        {
          "output_type": "stream",
          "name": "stdout",
          "text": [
            "[[-7.  2.]\n",
            " [ 4. -1.]]\n"
          ]
        }
      ]
    },
    {
      "cell_type": "code",
      "metadata": {
        "colab": {
          "base_uri": "https://localhost:8080/"
        },
        "id": "vb89Q_mP1RDF",
        "outputId": "a5f6aab4-187b-4f9b-fa5f-6b846d4bb742"
      },
      "source": [
        "C = np.dot(A,invA)\n",
        "print(C)"
      ],
      "execution_count": 3,
      "outputs": [
        {
          "output_type": "stream",
          "name": "stdout",
          "text": [
            "[[1. 0.]\n",
            " [0. 1.]]\n"
          ]
        }
      ]
    },
    {
      "cell_type": "markdown",
      "metadata": {
        "id": "YE2xaoTN1mx1"
      },
      "source": [
        "**Program that applies the inverse of a 3x3 Matrix**"
      ]
    },
    {
      "cell_type": "code",
      "metadata": {
        "colab": {
          "base_uri": "https://localhost:8080/"
        },
        "id": "p4Z3F1V-1_kz",
        "outputId": "4c50e4f8-3a25-44b3-8163-3fce22a35afd"
      },
      "source": [
        "B = np.array([[8,9,5],[3,4,2],[4,5,3]])\n",
        "invB = np.linalg.inv(B)\n",
        "print(invB)\n",
        "\n"
      ],
      "execution_count": 10,
      "outputs": [
        {
          "output_type": "stream",
          "name": "stdout",
          "text": [
            "[[ 1.  -1.  -1. ]\n",
            " [-0.5  2.  -0.5]\n",
            " [-0.5 -2.   2.5]]\n"
          ]
        }
      ]
    },
    {
      "cell_type": "code",
      "metadata": {
        "colab": {
          "base_uri": "https://localhost:8080/"
        },
        "id": "4HGErEjc28xi",
        "outputId": "05860509-9ea0-4e74-8edd-613be3dd6de4"
      },
      "source": [
        "C = np.dot(B,invB)\n",
        "print(C)"
      ],
      "execution_count": 11,
      "outputs": [
        {
          "output_type": "stream",
          "name": "stdout",
          "text": [
            "[[ 1.0000000e+00 -4.4408921e-16  4.4408921e-16]\n",
            " [ 0.0000000e+00  1.0000000e+00  8.8817842e-16]\n",
            " [ 0.0000000e+00 -4.4408921e-16  1.0000000e+00]]\n"
          ]
        }
      ]
    },
    {
      "cell_type": "markdown",
      "metadata": {
        "id": "f8-kzp2K3OeH"
      },
      "source": [
        "**Transpose of the Matrix**"
      ]
    },
    {
      "cell_type": "code",
      "metadata": {
        "colab": {
          "base_uri": "https://localhost:8080/"
        },
        "id": "cUB8Cj7J3TeK",
        "outputId": "e02dcbd7-89c6-45b6-f072-3da6b580795f"
      },
      "source": [
        "D = np.transpose(B)\n",
        "print(D)"
      ],
      "execution_count": 13,
      "outputs": [
        {
          "output_type": "stream",
          "name": "stdout",
          "text": [
            "[[8 3 4]\n",
            " [9 4 5]\n",
            " [5 2 3]]\n"
          ]
        }
      ]
    },
    {
      "cell_type": "markdown",
      "metadata": {
        "id": "TpoyNS_H3oC7"
      },
      "source": [
        "**Inverse of a 4x4 Matrix**"
      ]
    },
    {
      "cell_type": "code",
      "metadata": {
        "colab": {
          "base_uri": "https://localhost:8080/"
        },
        "id": "TfznhJOc3tX0",
        "outputId": "3b9979d2-5a37-460d-ffeb-6efc4f700709"
      },
      "source": [
        "E = np.array([[3,4,6,5],[9,8,3,2],[5,8,6,4],[2,5,4,3]])\n",
        "print(E)"
      ],
      "execution_count": 15,
      "outputs": [
        {
          "output_type": "stream",
          "name": "stdout",
          "text": [
            "[[3 4 6 5]\n",
            " [9 8 3 2]\n",
            " [5 8 6 4]\n",
            " [2 5 4 3]]\n"
          ]
        }
      ]
    },
    {
      "cell_type": "code",
      "metadata": {
        "colab": {
          "base_uri": "https://localhost:8080/"
        },
        "id": "q4uKMkLm4Dlu",
        "outputId": "fbb67b8e-6f58-4868-b2b0-6cb34443e96d"
      },
      "source": [
        "F= np.linalg.inv(E)\n",
        "print(F)"
      ],
      "execution_count": 16,
      "outputs": [
        {
          "output_type": "stream",
          "name": "stdout",
          "text": [
            "[[ 0.14545455  0.10909091  0.09090909 -0.43636364]\n",
            " [-0.23636364  0.07272727 -0.27272727  0.70909091]\n",
            " [-0.03636364 -0.52727273  1.72727273 -1.89090909]\n",
            " [ 0.34545455  0.50909091 -1.90909091  1.96363636]]\n"
          ]
        }
      ]
    },
    {
      "cell_type": "markdown",
      "metadata": {
        "id": "DXB_PlI54Hse"
      },
      "source": [
        "**Transpose of the 4x4 Matrix**"
      ]
    },
    {
      "cell_type": "code",
      "metadata": {
        "colab": {
          "base_uri": "https://localhost:8080/"
        },
        "id": "PGASq3Zv4Lpj",
        "outputId": "a1a97b3a-2787-4c96-c011-c7401d42f850"
      },
      "source": [
        "G= np.transpose(E)\n",
        "print(G)"
      ],
      "execution_count": 18,
      "outputs": [
        {
          "output_type": "stream",
          "name": "stdout",
          "text": [
            "[[3 9 5 2]\n",
            " [4 8 8 5]\n",
            " [6 3 6 4]\n",
            " [5 2 4 3]]\n"
          ]
        }
      ]
    }
  ]
}