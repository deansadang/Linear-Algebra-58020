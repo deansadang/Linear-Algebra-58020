{
  "nbformat": 4,
  "nbformat_minor": 0,
  "metadata": {
    "colab": {
      "name": "Practical Lab 1.ipynb",
      "provenance": [],
      "authorship_tag": "ABX9TyPcGFKKMzCKCK/1NqeNfapQ",
      "include_colab_link": true
    },
    "kernelspec": {
      "name": "python3",
      "display_name": "Python 3"
    },
    "language_info": {
      "name": "python"
    }
  },
  "cells": [
    {
      "cell_type": "markdown",
      "metadata": {
        "id": "view-in-github",
        "colab_type": "text"
      },
      "source": [
        "<a href=\"https://colab.research.google.com/github/deansadang/Linear-Algebra-58020/blob/main/Practical_Lab_1.ipynb\" target=\"_parent\"><img src=\"https://colab.research.google.com/assets/colab-badge.svg\" alt=\"Open In Colab\"/></a>"
      ]
    },
    {
      "cell_type": "markdown",
      "metadata": {
        "id": "GPAAgjFHHc7B"
      },
      "source": [
        "**Problem 1**"
      ]
    },
    {
      "cell_type": "code",
      "metadata": {
        "id": "qGtahVcpJkrr"
      },
      "source": [
        "import numpy as np"
      ],
      "execution_count": 45,
      "outputs": []
    },
    {
      "cell_type": "code",
      "metadata": {
        "id": "E-4vO4Zy91-9"
      },
      "source": [
        "\n",
        "W = np.array([[1,-3,0],[2,-2,0],[3,1,0]])\n",
        "\n",
        "X = np.array ([[3,2,1],[-1,2,3],[2,-1,1]])\n",
        "\n",
        "Y = np.array ([[1,2,0],[0,-1,2],[0,0,0]])\n",
        "\n",
        "Z = np.array ([[0,1],[2,3]])\n"
      ],
      "execution_count": 59,
      "outputs": []
    },
    {
      "cell_type": "code",
      "metadata": {
        "colab": {
          "base_uri": "https://localhost:8080/"
        },
        "id": "Mq8xhI5rBbRR",
        "outputId": "2335a49d-f737-4e26-d4ec-eda864ddcac0"
      },
      "source": [
        "#A\n",
        "output = np.dot(W,Y)\n",
        "print(output)"
      ],
      "execution_count": 61,
      "outputs": [
        {
          "output_type": "stream",
          "name": "stdout",
          "text": [
            "[[ 1  5 -6]\n",
            " [ 2  6 -4]\n",
            " [ 3  5  2]]\n"
          ]
        }
      ]
    },
    {
      "cell_type": "code",
      "metadata": {
        "colab": {
          "base_uri": "https://localhost:8080/"
        },
        "id": "IMBPd6eSHG4Q",
        "outputId": "8eec48ca-e6d0-45e9-ab5c-049da8013a3d"
      },
      "source": [
        "#B\n",
        "output = np.add(Z,Z)\n",
        "print(output)"
      ],
      "execution_count": 62,
      "outputs": [
        {
          "output_type": "stream",
          "name": "stdout",
          "text": [
            "[[0 2]\n",
            " [4 6]]\n"
          ]
        }
      ]
    },
    {
      "cell_type": "code",
      "metadata": {
        "colab": {
          "base_uri": "https://localhost:8080/"
        },
        "id": "3po0N-WLIW4H",
        "outputId": "0340b479-abaa-41fa-a9c3-081e7b88383b"
      },
      "source": [
        "#C\n",
        "output = np.dot(3,X)\n",
        "print(output)"
      ],
      "execution_count": 63,
      "outputs": [
        {
          "output_type": "stream",
          "name": "stdout",
          "text": [
            "[[ 9  6  3]\n",
            " [-3  6  9]\n",
            " [ 6 -3  3]]\n"
          ]
        }
      ]
    },
    {
      "cell_type": "markdown",
      "metadata": {
        "id": "myY0kYdiLoiD"
      },
      "source": [
        "**Problem 2**"
      ]
    },
    {
      "cell_type": "code",
      "metadata": {
        "colab": {
          "base_uri": "https://localhost:8080/"
        },
        "id": "J3I3WXlzIjJf",
        "outputId": "624e5c5a-d857-458d-db55-6fc07e44da53"
      },
      "source": [
        "#A product is not defined\n",
        "ans1 = np.cross(Y,W)\n",
        "\n",
        "ans2 = 2*ans1\n",
        "print(ans2)\n",
        "\n",
        "#A is false"
      ],
      "execution_count": 64,
      "outputs": [
        {
          "output_type": "stream",
          "name": "stdout",
          "text": [
            "[[  0   0 -10]\n",
            " [  8   8   4]\n",
            " [  0   0   0]]\n"
          ]
        }
      ]
    },
    {
      "cell_type": "code",
      "metadata": {
        "colab": {
          "base_uri": "https://localhost:8080/"
        },
        "id": "y-5TAiPWKo5k",
        "outputId": "5bb46520-e110-4f7b-9d72-5b3df5dfee75"
      },
      "source": [
        "#B\n",
        "b1 = np.dot(W,Y)\n",
        "b2 = np.subtract(b1,X)\n",
        "print(b2)\n",
        "\n",
        "#B is false"
      ],
      "execution_count": 66,
      "outputs": [
        {
          "output_type": "stream",
          "name": "stdout",
          "text": [
            "[[-2  3 -7]\n",
            " [ 3  4 -7]\n",
            " [ 1  6  1]]\n"
          ]
        }
      ]
    },
    {
      "cell_type": "code",
      "metadata": {
        "colab": {
          "base_uri": "https://localhost:8080/"
        },
        "id": "rGk-Ze40LJX6",
        "outputId": "60475e3c-a09f-4d7a-88c8-e8bfe3707191"
      },
      "source": [
        "#C\n",
        "c1=np.dot(Y,W)\n",
        "c2 =2*Z\n",
        "\n",
        "c1 = ([[5,-7],[4,4]])\n",
        "c3 = np.subtract(c1,c2)\n",
        "print(c3)\n",
        "\n",
        "#C is true"
      ],
      "execution_count": 68,
      "outputs": [
        {
          "output_type": "stream",
          "name": "stdout",
          "text": [
            "[[ 5 -9]\n",
            " [ 0 -2]]\n"
          ]
        }
      ]
    }
  ]
}