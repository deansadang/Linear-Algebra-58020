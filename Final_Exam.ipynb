{
  "nbformat": 4,
  "nbformat_minor": 0,
  "metadata": {
    "colab": {
      "name": "Final Exam.ipynb",
      "provenance": [],
      "authorship_tag": "ABX9TyN8VliCFBH2nkOKAj+ZXWYu",
      "include_colab_link": true
    },
    "kernelspec": {
      "name": "python3",
      "display_name": "Python 3"
    },
    "language_info": {
      "name": "python"
    }
  },
  "cells": [
    {
      "cell_type": "markdown",
      "metadata": {
        "id": "view-in-github",
        "colab_type": "text"
      },
      "source": [
        "<a href=\"https://colab.research.google.com/github/deansadang/Linear-Algebra-58020/blob/main/Final_Exam.ipynb\" target=\"_parent\"><img src=\"https://colab.research.google.com/assets/colab-badge.svg\" alt=\"Open In Colab\"/></a>"
      ]
    },
    {
      "cell_type": "code",
      "execution_count": 13,
      "metadata": {
        "id": "nk-2KqaQFw9N"
      },
      "outputs": [],
      "source": [
        "import numpy as np \n",
        "from numpy.linalg import eig "
      ]
    },
    {
      "cell_type": "markdown",
      "source": [
        "**Problem #1**"
      ],
      "metadata": {
        "id": "GHuuKFywMJHt"
      }
    },
    {
      "cell_type": "code",
      "source": [
        "S1 = np.array([[1, 1, 1],[1, 0, 4], [0, 0, 5]])\n",
        "S2 = np.array([[89], [89], [95]])\n",
        "\n",
        "T = np.linalg.inv(S1).dot(S2)\n",
        "print(T)"
      ],
      "metadata": {
        "colab": {
          "base_uri": "https://localhost:8080/"
        },
        "id": "44ZQmh3sXDzp",
        "outputId": "9b19f144-f59a-46be-e65b-5fbe1522929d"
      },
      "execution_count": 17,
      "outputs": [
        {
          "output_type": "stream",
          "name": "stdout",
          "text": [
            "[[13.]\n",
            " [57.]\n",
            " [19.]]\n"
          ]
        }
      ]
    },
    {
      "cell_type": "markdown",
      "source": [
        "**Problem #2**"
      ],
      "metadata": {
        "id": "vrp2KKpOMEIU"
      }
    },
    {
      "cell_type": "code",
      "source": [
        "A = np.array([[3,-1,1], [9,-3,3], [-12,4,-4]])\n",
        "print(\"Matrix A:\\n\", A)\n",
        "\n",
        "#The matrix is singular, we cannot somehow inverse it but we can use pinv to see the output and the results.\n",
        "\n",
        "inv_A = np.linalg.pinv(A)\n",
        "print(\"\\nInverse of Matrix A:\\n\", inv_A)\n",
        "\n",
        "B = np.array([[5],[10],[-20]])\n",
        "print(\"\\nMatrix A:\\n\", A)\n",
        "\n",
        "X = np.dot(inv_A, B)\n",
        "print(\"\\nDot:\\n\", X)\n",
        "\n",
        "C = np.dot(A, X)\n",
        "print(\"\\nChecking:\\n\", C)"
      ],
      "metadata": {
        "colab": {
          "base_uri": "https://localhost:8080/"
        },
        "id": "CCWMl92xYgW-",
        "outputId": "3c6c7a9e-e373-4f93-c35b-b47bb209172d"
      },
      "execution_count": 18,
      "outputs": [
        {
          "output_type": "stream",
          "name": "stdout",
          "text": [
            "Matrix A:\n",
            " [[  3  -1   1]\n",
            " [  9  -3   3]\n",
            " [-12   4  -4]]\n",
            "\n",
            "Inverse of Matrix A:\n",
            " [[ 0.01048951  0.03146853 -0.04195804]\n",
            " [-0.0034965  -0.01048951  0.01398601]\n",
            " [ 0.0034965   0.01048951 -0.01398601]]\n",
            "\n",
            "Matrix A:\n",
            " [[  3  -1   1]\n",
            " [  9  -3   3]\n",
            " [-12   4  -4]]\n",
            "\n",
            "Dot:\n",
            " [[ 1.20629371]\n",
            " [-0.4020979 ]\n",
            " [ 0.4020979 ]]\n",
            "\n",
            "Checking:\n",
            " [[  4.42307692]\n",
            " [ 13.26923077]\n",
            " [-17.69230769]]\n"
          ]
        }
      ]
    },
    {
      "cell_type": "markdown",
      "source": [
        "**Problem #3**"
      ],
      "metadata": {
        "id": "aE8iF6lIL9Il"
      }
    },
    {
      "cell_type": "code",
      "source": [
        "z = np.array([[8,5,-6],[-12,-9,12],[-3,-3,5]])\n",
        "print(z)\n",
        "b,c =np.linalg.eig(z)\n",
        "print(\"The eigenvalue/s is/are:\" ,b)\n",
        "print(\"The eigenvectors are\",c)\n",
        "x = c.round()\n",
        "print(x)\n"
      ],
      "metadata": {
        "colab": {
          "base_uri": "https://localhost:8080/"
        },
        "id": "gwFdSeeSGuCL",
        "outputId": "71c106b5-3773-403f-8545-564a95766e3a"
      },
      "execution_count": 14,
      "outputs": [
        {
          "output_type": "stream",
          "name": "stdout",
          "text": [
            "[[  8   5  -6]\n",
            " [-12  -9  12]\n",
            " [ -3  -3   5]]\n",
            "The eigenvalue/s is/are: [-1.  3.  2.]\n",
            "The eigenvectors are [[ 3.01511345e-01 -7.07106781e-01  7.07106781e-01]\n",
            " [-9.04534034e-01  7.07106781e-01  1.53837015e-15]\n",
            " [-3.01511345e-01 -2.26120075e-15  7.07106781e-01]]\n",
            "[[ 0. -1.  1.]\n",
            " [-1.  1.  0.]\n",
            " [-0. -0.  1.]]\n"
          ]
        }
      ]
    }
  ]
}